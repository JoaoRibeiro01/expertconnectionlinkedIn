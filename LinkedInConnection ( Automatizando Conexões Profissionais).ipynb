{
 "cells": [
  {
   "cell_type": "code",
   "execution_count": 1,
   "id": "04c993b6",
   "metadata": {},
   "outputs": [],
   "source": [
    "#Importando os módulos/bibliotecas\n",
    "from selenium import webdriver\n",
    "from selenium.webdriver.chrome.service import Service\n",
    "from webdriver_manager.chrome import ChromeDriverManager\n",
    "from selenium.webdriver.common.by import By\n",
    "from selenium.webdriver.common.keys import Keys\n",
    "from selenium.webdriver.support import expected_conditions as EC\n",
    "from selenium.common.exceptions import WebDriverException\n",
    "from selenium.webdriver.support.ui import WebDriverWait\n",
    "from selenium.common.exceptions import ElementNotInteractableException\n",
    "import time"
   ]
  },
  {
   "cell_type": "code",
   "execution_count": 2,
   "id": "0149d395",
   "metadata": {},
   "outputs": [],
   "source": [
    "#Passo a passo do que será feita\n",
    "\n",
    "#Entrar no linkedin\n",
    "#Clicar na barra de pesquisa\n",
    "#Pesquisar o nome Tech Recruiter\n",
    "#Clicar em \"Pessoas\"\n",
    "#Pegar uma lista com todos os resultados\n",
    "#Para cada resultado, clicar em conectar e enviar a mensagem pronta.\n",
    "#Fazer isso para todos os resultados\n",
    "\n",
    "def caso_o_codigo_trave_isso_vai_resolver_parte1():\n",
    "    if len(navegador.find_elements(By.CLASS_NAME, 'artdeco-modal__content')) >= 1:\n",
    "        navegador.find_element(By.CLASS_NAME, 'artdeco-modal__dismiss').click()\n",
    "        \n",
    "def caso_o_codigo_trave_isso_vai_resolver_parte2():\n",
    "    if len(navegador.find_elements(By.CLASS_NAME, 'ip-fuse-limit-alert__warning'))>= 1:\n",
    "        elemento = WebDriverWait(navegador, delay).until(EC.presence_of_element_located((By.CLASS_NAME, 'ip-fuse-limit-alert__primary-action')))\n",
    "        elemento.click()"
   ]
  },
  {
   "cell_type": "code",
   "execution_count": 3,
   "id": "585e5af2",
   "metadata": {
    "scrolled": false
   },
   "outputs": [
    {
     "ename": "NoSuchWindowException",
     "evalue": "Message: no such window: target window already closed\nfrom unknown error: web view not found\n  (Session info: chrome=123.0.6312.105)\nStacktrace:\n\tGetHandleVerifier [0x00824CC3+225091]\n\t(No symbol) [0x00754E11]\n\t(No symbol) [0x005F9A7A]\n\t(No symbol) [0x005DE312]\n\t(No symbol) [0x0065517B]\n\t(No symbol) [0x006655A6]\n\t(No symbol) [0x0064F2F6]\n\t(No symbol) [0x006279B9]\n\t(No symbol) [0x0062879D]\n\tsqlite3_dbdata_init [0x00C99A63+4064547]\n\tsqlite3_dbdata_init [0x00CA106A+4094762]\n\tsqlite3_dbdata_init [0x00C9B968+4072488]\n\tsqlite3_dbdata_init [0x0099C9C9+930953]\n\t(No symbol) [0x007607E4]\n\t(No symbol) [0x0075AD08]\n\t(No symbol) [0x0075AE31]\n\t(No symbol) [0x0074CAA0]\n\tBaseThreadInitThunk [0x76757BA9+25]\n\tRtlInitializeExceptionChain [0x77A2BDAB+107]\n\tRtlClearBits [0x77A2BD2F+191]\n",
     "output_type": "error",
     "traceback": [
      "\u001b[1;31m---------------------------------------------------------------------------\u001b[0m",
      "\u001b[1;31mNoSuchWindowException\u001b[0m                     Traceback (most recent call last)",
      "Cell \u001b[1;32mIn[3], line 11\u001b[0m\n\u001b[0;32m      8\u001b[0m navegador\u001b[38;5;241m.\u001b[39mget(\u001b[38;5;124m\"\u001b[39m\u001b[38;5;124mhttps://www.linkedin.com/\u001b[39m\u001b[38;5;124m\"\u001b[39m)\n\u001b[0;32m     10\u001b[0m time\u001b[38;5;241m.\u001b[39msleep(\u001b[38;5;241m3\u001b[39m)\n\u001b[1;32m---> 11\u001b[0m \u001b[43mnavegador\u001b[49m\u001b[38;5;241;43m.\u001b[39;49m\u001b[43mfind_element\u001b[49m\u001b[43m(\u001b[49m\u001b[43mBy\u001b[49m\u001b[38;5;241;43m.\u001b[39;49m\u001b[43mCLASS_NAME\u001b[49m\u001b[43m,\u001b[49m\u001b[43m \u001b[49m\u001b[38;5;124;43m'\u001b[39;49m\u001b[38;5;124;43msearch-global-typeahead__input\u001b[39;49m\u001b[38;5;124;43m'\u001b[39;49m\u001b[43m)\u001b[49m\u001b[38;5;241m.\u001b[39msend_keys(\u001b[38;5;124m'\u001b[39m\u001b[38;5;124mTech Recruiter\u001b[39m\u001b[38;5;124m'\u001b[39m, Keys\u001b[38;5;241m.\u001b[39mENTER)\n\u001b[0;32m     13\u001b[0m \u001b[38;5;66;03m#Espera um elemento aparecer na tela para prosseguir com o código\u001b[39;00m\n\u001b[0;32m     14\u001b[0m \u001b[38;5;28;01mwhile\u001b[39;00m \u001b[38;5;28mlen\u001b[39m(navegador\u001b[38;5;241m.\u001b[39mfind_elements(By\u001b[38;5;241m.\u001b[39mCLASS_NAME, \u001b[38;5;124m'\u001b[39m\u001b[38;5;124msearch-reusables__primary-filter\u001b[39m\u001b[38;5;124m'\u001b[39m)) \u001b[38;5;241m<\u001b[39m \u001b[38;5;241m1\u001b[39m:\n",
      "File \u001b[1;32m~\\AppData\\Roaming\\Python\\Python311\\site-packages\\selenium\\webdriver\\remote\\webdriver.py:741\u001b[0m, in \u001b[0;36mWebDriver.find_element\u001b[1;34m(self, by, value)\u001b[0m\n\u001b[0;32m    738\u001b[0m     by \u001b[38;5;241m=\u001b[39m By\u001b[38;5;241m.\u001b[39mCSS_SELECTOR\n\u001b[0;32m    739\u001b[0m     value \u001b[38;5;241m=\u001b[39m \u001b[38;5;124mf\u001b[39m\u001b[38;5;124m'\u001b[39m\u001b[38;5;124m[name=\u001b[39m\u001b[38;5;124m\"\u001b[39m\u001b[38;5;132;01m{\u001b[39;00mvalue\u001b[38;5;132;01m}\u001b[39;00m\u001b[38;5;124m\"\u001b[39m\u001b[38;5;124m]\u001b[39m\u001b[38;5;124m'\u001b[39m\n\u001b[1;32m--> 741\u001b[0m \u001b[38;5;28;01mreturn\u001b[39;00m \u001b[38;5;28;43mself\u001b[39;49m\u001b[38;5;241;43m.\u001b[39;49m\u001b[43mexecute\u001b[49m\u001b[43m(\u001b[49m\u001b[43mCommand\u001b[49m\u001b[38;5;241;43m.\u001b[39;49m\u001b[43mFIND_ELEMENT\u001b[49m\u001b[43m,\u001b[49m\u001b[43m \u001b[49m\u001b[43m{\u001b[49m\u001b[38;5;124;43m\"\u001b[39;49m\u001b[38;5;124;43musing\u001b[39;49m\u001b[38;5;124;43m\"\u001b[39;49m\u001b[43m:\u001b[49m\u001b[43m \u001b[49m\u001b[43mby\u001b[49m\u001b[43m,\u001b[49m\u001b[43m \u001b[49m\u001b[38;5;124;43m\"\u001b[39;49m\u001b[38;5;124;43mvalue\u001b[39;49m\u001b[38;5;124;43m\"\u001b[39;49m\u001b[43m:\u001b[49m\u001b[43m \u001b[49m\u001b[43mvalue\u001b[49m\u001b[43m}\u001b[49m\u001b[43m)\u001b[49m[\u001b[38;5;124m\"\u001b[39m\u001b[38;5;124mvalue\u001b[39m\u001b[38;5;124m\"\u001b[39m]\n",
      "File \u001b[1;32m~\\AppData\\Roaming\\Python\\Python311\\site-packages\\selenium\\webdriver\\remote\\webdriver.py:347\u001b[0m, in \u001b[0;36mWebDriver.execute\u001b[1;34m(self, driver_command, params)\u001b[0m\n\u001b[0;32m    345\u001b[0m response \u001b[38;5;241m=\u001b[39m \u001b[38;5;28mself\u001b[39m\u001b[38;5;241m.\u001b[39mcommand_executor\u001b[38;5;241m.\u001b[39mexecute(driver_command, params)\n\u001b[0;32m    346\u001b[0m \u001b[38;5;28;01mif\u001b[39;00m response:\n\u001b[1;32m--> 347\u001b[0m     \u001b[38;5;28;43mself\u001b[39;49m\u001b[38;5;241;43m.\u001b[39;49m\u001b[43merror_handler\u001b[49m\u001b[38;5;241;43m.\u001b[39;49m\u001b[43mcheck_response\u001b[49m\u001b[43m(\u001b[49m\u001b[43mresponse\u001b[49m\u001b[43m)\u001b[49m\n\u001b[0;32m    348\u001b[0m     response[\u001b[38;5;124m\"\u001b[39m\u001b[38;5;124mvalue\u001b[39m\u001b[38;5;124m\"\u001b[39m] \u001b[38;5;241m=\u001b[39m \u001b[38;5;28mself\u001b[39m\u001b[38;5;241m.\u001b[39m_unwrap_value(response\u001b[38;5;241m.\u001b[39mget(\u001b[38;5;124m\"\u001b[39m\u001b[38;5;124mvalue\u001b[39m\u001b[38;5;124m\"\u001b[39m, \u001b[38;5;28;01mNone\u001b[39;00m))\n\u001b[0;32m    349\u001b[0m     \u001b[38;5;28;01mreturn\u001b[39;00m response\n",
      "File \u001b[1;32m~\\AppData\\Roaming\\Python\\Python311\\site-packages\\selenium\\webdriver\\remote\\errorhandler.py:229\u001b[0m, in \u001b[0;36mErrorHandler.check_response\u001b[1;34m(self, response)\u001b[0m\n\u001b[0;32m    227\u001b[0m         alert_text \u001b[38;5;241m=\u001b[39m value[\u001b[38;5;124m\"\u001b[39m\u001b[38;5;124malert\u001b[39m\u001b[38;5;124m\"\u001b[39m]\u001b[38;5;241m.\u001b[39mget(\u001b[38;5;124m\"\u001b[39m\u001b[38;5;124mtext\u001b[39m\u001b[38;5;124m\"\u001b[39m)\n\u001b[0;32m    228\u001b[0m     \u001b[38;5;28;01mraise\u001b[39;00m exception_class(message, screen, stacktrace, alert_text)  \u001b[38;5;66;03m# type: ignore[call-arg]  # mypy is not smart enough here\u001b[39;00m\n\u001b[1;32m--> 229\u001b[0m \u001b[38;5;28;01mraise\u001b[39;00m exception_class(message, screen, stacktrace)\n",
      "\u001b[1;31mNoSuchWindowException\u001b[0m: Message: no such window: target window already closed\nfrom unknown error: web view not found\n  (Session info: chrome=123.0.6312.105)\nStacktrace:\n\tGetHandleVerifier [0x00824CC3+225091]\n\t(No symbol) [0x00754E11]\n\t(No symbol) [0x005F9A7A]\n\t(No symbol) [0x005DE312]\n\t(No symbol) [0x0065517B]\n\t(No symbol) [0x006655A6]\n\t(No symbol) [0x0064F2F6]\n\t(No symbol) [0x006279B9]\n\t(No symbol) [0x0062879D]\n\tsqlite3_dbdata_init [0x00C99A63+4064547]\n\tsqlite3_dbdata_init [0x00CA106A+4094762]\n\tsqlite3_dbdata_init [0x00C9B968+4072488]\n\tsqlite3_dbdata_init [0x0099C9C9+930953]\n\t(No symbol) [0x007607E4]\n\t(No symbol) [0x0075AD08]\n\t(No symbol) [0x0075AE31]\n\t(No symbol) [0x0074CAA0]\n\tBaseThreadInitThunk [0x76757BA9+25]\n\tRtlInitializeExceptionChain [0x77A2BDAB+107]\n\tRtlClearBits [0x77A2BD2F+191]\n"
     ]
    }
   ],
   "source": [
    "options = webdriver.ChromeOptions()\n",
    "options.add_argument(r'user-data-dir=C:\\Users\\joao_\\AppData\\Local\\Google\\Chrome\\User Data\\Profile Selenium')\n",
    "options.add_argument('--disable-blink-features=AutomationControlled')\n",
    "\n",
    "service = Service(ChromeDriverManager().install())\n",
    "navegador = webdriver.Chrome(service=service, options=options)\n",
    "#Entrando no linkedin\n",
    "navegador.get(\"https://www.linkedin.com/\")\n",
    "\n",
    "time.sleep(3)\n",
    "navegador.find_element(By.CLASS_NAME, 'search-global-typeahead__input').send_keys('Tech Recruiter', Keys.ENTER)\n",
    "\n",
    "#Espera um elemento aparecer na tela para prosseguir com o código\n",
    "while len(navegador.find_elements(By.CLASS_NAME, 'search-reusables__primary-filter')) < 1:\n",
    "    time.sleep(1)\n",
    "time.sleep(1)\n",
    "\n",
    "#Pega uma lista de elementos e clica onde estiver escrito \"Pessoas\"\n",
    "elementos = navegador.find_elements(By.CLASS_NAME, 'search-reusables__primary-filter')\n",
    "\n",
    "for item in elementos:\n",
    "    if item.text == 'Pessoas':\n",
    "        item.click()\n",
    "        break\n",
    "time.sleep(5)"
   ]
  },
  {
   "cell_type": "code",
   "execution_count": null,
   "id": "0fd8ca9a",
   "metadata": {},
   "outputs": [],
   "source": [
    "#Variavel delay = tempo que o navegador vai esperar a presença de uma lista de elementos, para prosseguir com o código.\n",
    "texto_para_o_recruit = f'''Td bem?\n",
    "Me chamo João, desenvolvedor estagiário com um ano de experiência, buscando oportunidade como desenvolvedor júnior. Habilidades sólidas em Python seus frameworks robustos, desenvolvimento back-end e SQL. Pretensão salarial: R$3.000,00. Estaria disponivel p/ conversar?\n",
    "'''\n",
    "delay = 10\n",
    "conta_conexoes = 0\n",
    "#O loop vai parar quando fizer 50 conexões profissionais\n",
    "while conta_conexoes < 50:\n",
    "    lista_resultados = navegador.find_elements(By.CLASS_NAME, 'wdzKOVpraIeFtbdzJyKhlxHxMscYCcoAcOWkk')\n",
    "    for resultado in lista_resultados:\n",
    "        try:\n",
    "            #Nome do recrutador, o elemento fica obsoleto, aqui o navegador esperar até que ele apareça no DOM novamente\n",
    "            nome_recrutador = WebDriverWait(resultado, delay).until(EC.presence_of_element_located((By.CLASS_NAME, 't-sans')))\n",
    "            #Extraindo apenas o nome\n",
    "            separator = nome_recrutador.text.split()\n",
    "            nome_extraido = separator[0]\n",
    "            #Mesmo caso que fiz na extração do nome anteriormente.\n",
    "            botao_conectar = WebDriverWait(resultado, delay).until(EC.presence_of_element_located((By.CLASS_NAME, 'artdeco-button__text')))\n",
    "            #Condição para prosseguir com os passos seguintes.\n",
    "            if botao_conectar.text == 'Conectar':\n",
    "                #Sempre que ele achar um botão de conectar ele vai adicionar +1 na variavel conta_conexoes\n",
    "                conta_conexoes +=1\n",
    "                botao_conectar.click()\n",
    "                time.sleep(3)\n",
    "                #Cria uma lista dos botoes que aparecem na tela atual, e clica onde estiver escrito \"Adicionar nota\"\n",
    "                botoes_tela = navegador.find_elements(By.CLASS_NAME, 'artdeco-button__text')\n",
    "                for botao in botoes_tela:\n",
    "                    if botao.text == \"Adicionar nota\":\n",
    "                        botao.click()\n",
    "                        break\n",
    "                time.sleep(2)\n",
    "                #Escreve um texto na nota para enviar para o recrutador\n",
    "                texto_da_nota = navegador.find_element(By.CLASS_NAME, 'mb3')\n",
    "                texto_da_nota.send_keys(f\"Olá {nome_extraido}.\" + texto_para_o_recruit)\n",
    "                time.sleep(2)\n",
    "                #Envia a nota\n",
    "                botao_enviar_nota = navegador.find_element(By.CLASS_NAME, 'ml1')\n",
    "                botao_enviar_nota.click()\n",
    "                time.sleep(2)\n",
    "            else:\n",
    "                pass\n",
    "            #Alguns botoes de conectar pedem o e-mail do recrutador para conectar com ele, entao para evitar isso simplesmente fechamos.\n",
    "            caso_o_codigo_trave_isso_vai_resolver_parte1()\n",
    "        #Tratando algo que aparece na tela e trava o código.\n",
    "        except ElementNotInteractableException:\n",
    "            caso_o_codigo_trave_isso_vai_resolver_parte2()\n",
    "    #Da um scroll na tela, para avançar para a próxima página, em seguida fazer o mesmo procedimento acima.\n",
    "    time.sleep(2)\n",
    "    navegador.execute_script(\"window.scroll(0, 1300)\")\n",
    "    time.sleep(1)\n",
    "    avancar = WebDriverWait(navegador, delay).until(EC.presence_of_element_located((By.CLASS_NAME, 'artdeco-pagination__button--next')))\n",
    "    avancar.click()\n",
    "    time.sleep(5)\n",
    "    navegador.refresh()\n",
    "    time.sleep(5)\n",
    "    \n",
    "    \n",
    "\n",
    "navegador.quit()"
   ]
  },
  {
   "cell_type": "code",
   "execution_count": null,
   "id": "235192f2",
   "metadata": {},
   "outputs": [],
   "source": [
    "print(len(navegador.find_elements(By.CLASS_NAME, 'ip-fuse-limit-alert__primary-action')))"
   ]
  }
 ],
 "metadata": {
  "kernelspec": {
   "display_name": "Python 3 (ipykernel)",
   "language": "python",
   "name": "python3"
  },
  "language_info": {
   "codemirror_mode": {
    "name": "ipython",
    "version": 3
   },
   "file_extension": ".py",
   "mimetype": "text/x-python",
   "name": "python",
   "nbconvert_exporter": "python",
   "pygments_lexer": "ipython3",
   "version": "3.11.3"
  }
 },
 "nbformat": 4,
 "nbformat_minor": 5
}
